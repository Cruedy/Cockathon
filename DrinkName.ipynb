{
 "cells": [
  {
   "cell_type": "code",
   "execution_count": 49,
   "metadata": {},
   "outputs": [
    {
     "name": "stdout",
     "output_type": "stream",
     "text": [
      "[['Brooklyn ', 'Figgy Thyme ', 'Honey Bee ']]\n"
     ]
    }
   ],
   "source": [
    "import csv\n",
    "def getDrinks(tags):\n",
    "  drinks = []\n",
    "  for t in tags:\n",
    "    per_tag = []\n",
    "    with open(\"Tags.csv\", \"r\") as file:\n",
    "      csvreader = csv.reader(file)\n",
    "      for row in csvreader:\n",
    "        if t in row[1]:\n",
    "          per_tag.append(row[0])\n",
    "    drinks.append(per_tag)\n",
    "  return drinks\n",
    "\n",
    "drinks = getDrinks([\"sweet\"])\n",
    "print(drinks)"
   ]
  },
  {
   "cell_type": "code",
   "execution_count": 55,
   "metadata": {},
   "outputs": [
    {
     "name": "stdout",
     "output_type": "stream",
     "text": [
      "[['Brooklyn ', 'Figgy Thyme ', 'Honey Bee ']]\n",
      "Honey Brooklyn \n"
     ]
    }
   ],
   "source": [
    "import random\n",
    "def handle_loop(adj, alc, max, name, drinks):\n",
    "    for d in drinks[0]:\n",
    "        terms = d.split()\n",
    "        if len(terms) > max:\n",
    "            max = len(terms)\n",
    "        alc.append(terms.pop(len(terms)-1))\n",
    "        for t in terms:\n",
    "            adj.append(t)\n",
    "    for i in range(max - 1):\n",
    "        num = random.randint(0, len(adj)-1)\n",
    "        name = name + adj[num] + \" \"\n",
    "        adj.pop(num)\n",
    "    num = random.randint(0, len(alc)-1)\n",
    "    name = name + alc[num] + \" \"\n",
    "    return name\n",
    "\n",
    "def makeName(drinks):\n",
    "    adj = []\n",
    "    alc = []\n",
    "    print(drinks)\n",
    "    name = handle_loop(adj, alc, 0, \"\", drinks)\n",
    "    while name in drinks[0]:\n",
    "        name = handle_loop(adj, alc, 0, \"\", drinks)\n",
    "    return name\n",
    "print(makeName(drinks))"
   ]
  },
  {
   "cell_type": "code",
   "execution_count": null,
   "metadata": {},
   "outputs": [],
   "source": []
  }
 ],
 "metadata": {
  "kernelspec": {
   "display_name": "Python 3",
   "language": "python",
   "name": "python3"
  },
  "language_info": {
   "codemirror_mode": {
    "name": "ipython",
    "version": 3
   },
   "file_extension": ".py",
   "mimetype": "text/x-python",
   "name": "python",
   "nbconvert_exporter": "python",
   "pygments_lexer": "ipython3",
   "version": "3.11.2"
  },
  "orig_nbformat": 4
 },
 "nbformat": 4,
 "nbformat_minor": 2
}
